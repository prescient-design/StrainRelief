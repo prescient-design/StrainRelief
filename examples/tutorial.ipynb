{
 "cells": [
  {
   "cell_type": "code",
   "execution_count": null,
   "metadata": {},
   "outputs": [],
   "source": [
    "from hydra import compose, initialize\n",
    "from omegaconf import OmegaConf\n",
    "from rdkit import Chem\n",
    "from rdkit.Chem import rdDetermineBonds, AllChem\n",
    "from rdkit.Chem.Draw import IPythonConsole\n",
    "IPythonConsole.ipython_3d = True\n",
    "import pandas as pd\n",
    "\n",
    "from strain_relief import compute_strain"
   ]
  },
  {
   "cell_type": "code",
   "execution_count": null,
   "metadata": {},
   "outputs": [],
   "source": [
    "! pip install py3Dmol\n",
    "import py3Dmol"
   ]
  },
  {
   "cell_type": "markdown",
   "metadata": {},
   "source": [
    "## Running StrainRelief "
   ]
  },
  {
   "cell_type": "code",
   "execution_count": null,
   "metadata": {},
   "outputs": [],
   "source": [
    "# First, lets generate some example poses with 3D coordinates.\n",
    "smiles = [\"CCO\", \"CCN\", \"CCC\"]\n",
    "poses = []\n",
    "\n",
    "for s in smiles:\n",
    "    mol = Chem.MolFromSmiles(s)\n",
    "    mol = Chem.AddHs(mol)\n",
    "    AllChem.EmbedMolecule(mol)\n",
    "    mol.SetProp(\"smiles\", s)\n",
    "    poses.append(mol)\n",
    "\n",
    "# Note: to run StrainRelief your molecules must either have specified \n",
    "# bonds or they must be able to be passed through RDKit's rdDetermineBonds \n",
    "# function. This is needed for the conformer enumeration."
   ]
  },
  {
   "cell_type": "code",
   "execution_count": null,
   "metadata": {},
   "outputs": [],
   "source": [
    "# We now need to initialise a run configuration.\n",
    "# We use MMFF94s here so that runs will only take a few seconds.\n",
    "with initialize(version_base=\"1.1\", config_path=\"../src/strain_relief/hydra_config\"):\n",
    "    cfg = compose(\n",
    "        config_name=\"default\", \n",
    "        overrides=[\"experiment=mmff94s\",]\n",
    "    )\n",
    "\n",
    "print(OmegaConf.to_yaml(cfg))"
   ]
  },
  {
   "cell_type": "markdown",
   "metadata": {},
   "source": [
    "StrainRelief is run either via the `compute_strain` function or via the command line with the `strain-relief` command. The following three examples demonstrate different ways of running the tool, all giving the same output."
   ]
  },
  {
   "cell_type": "code",
   "execution_count": null,
   "metadata": {},
   "outputs": [],
   "source": [
    "# EXAMPLE 1\n",
    "\n",
    "# The minimal requirement to run StrainRelief is a list of RDKit.Mols with 3D poses and a run configration.\n",
    "# If ids are not given then they will be generated.\n",
    "results = compute_strain(mols=poses, ids=None, cfg=cfg)\n",
    "results.head()"
   ]
  },
  {
   "cell_type": "code",
   "execution_count": null,
   "metadata": {},
   "outputs": [],
   "source": [
    "# EXAMPLE 2\n",
    "\n",
    "# Instead of a list of mols, StrainRelief can be passed a dataframe with a \"mol_bytes\" and \"id\" column.\n",
    "# \"mol_bytes\" is a column of RDKit.Mol objects stroed as bytes.\n",
    "# Any additional columns, such as \"smiles\" here are also returned.\n",
    "\n",
    "df = pd.DataFrame([{\"mol_bytes\": mol.ToBinary(), **mol.GetPropsAsDict()} for mol in poses])\n",
    "df = df.reset_index(drop=False, names='id')\n",
    "\n",
    "results2 = compute_strain(df, cfg)\n",
    "results2.head()"
   ]
  },
  {
   "cell_type": "code",
   "execution_count": null,
   "metadata": {},
   "outputs": [],
   "source": [
    "# EXAMPLE 3\n",
    "\n",
    "# Finally, StrainRelief can be run from the command line by specifying an input parquet path\n",
    "# There are more example scripts in StrainRelief/examples/\n",
    "df.to_parquet(\"../data/tutorial_example.parquet\")\n",
    "! strain-relief io.input.parquet_path=../data/tutorial_example.parquet io.output.parquet_path=../data/tutorial_output.parquet experiment=mmff94s\n",
    "\n",
    "results3 = pd.read_parquet(\"../data/tutorial_output.parquet\")\n",
    "results3.head()"
   ]
  },
  {
   "cell_type": "markdown",
   "metadata": {},
   "source": [
    "## Examining the Output"
   ]
  },
  {
   "cell_type": "code",
   "execution_count": null,
   "metadata": {},
   "outputs": [],
   "source": [
    "! strain-relief io.input.parquet_path=../data/example_ligboundconf_input.parquet io.output.parquet_path=../data/example_ligboundconf_output.parquet experiment=mmff94s\n",
    "lig = pd.read_parquet(\"../data/example_ligboundconf_output.parquet\")\n",
    "lig.head()"
   ]
  },
  {
   "cell_type": "markdown",
   "metadata": {},
   "source": [
    "The `lig` dataframe contains all input columns (in this case `id`, `mol_bytes` and `some_property`) and all calculated columns:\n",
    "- `formal_charge` (int): RDKit's formal charge\n",
    "- `local_min_mol` (bytes): the coordinates of the local minimum\n",
    "- `local_min_e` (float): the energy of the local minimum (in kcal/mol)\n",
    "- `global_min_mol` (bytes): the coordinates of the global minimum\n",
    "- `global_min_e` (float): the energy of the global minimum (in kcal/mol)\n",
    "- `ligand_strain` (float): difference between local and global minima\n",
    "- `passes_strain_filter` (bool): whether `ligand_strain` is lower than the config threshold\n",
    "- `nconfs_converged` (int): the number of conformers that convereged when searching for the global minimum "
   ]
  },
  {
   "cell_type": "markdown",
   "metadata": {},
   "source": [
    "Lets have a look at the three poses from ligand 3Q4_3QD0_A_370. "
   ]
  },
  {
   "cell_type": "code",
   "execution_count": null,
   "metadata": {},
   "outputs": [],
   "source": [
    "docked = Chem.Mol(lig.mol_bytes[0])\n",
    "local_min = Chem.Mol(lig.local_min_mol[0])\n",
    "global_min = Chem.Mol(lig.global_min_mol[0])"
   ]
  },
  {
   "cell_type": "code",
   "execution_count": null,
   "metadata": {},
   "outputs": [],
   "source": [
    "rdDetermineBonds.DetermineBonds(docked)\n",
    "rdDetermineBonds.DetermineBonds(local_min)\n",
    "rdDetermineBonds.DetermineBonds(global_min)"
   ]
  },
  {
   "cell_type": "code",
   "execution_count": null,
   "metadata": {},
   "outputs": [],
   "source": [
    "IPythonConsole.drawMol3D(docked)"
   ]
  },
  {
   "cell_type": "code",
   "execution_count": null,
   "metadata": {},
   "outputs": [],
   "source": [
    "IPythonConsole.drawMol3D(local_min)"
   ]
  },
  {
   "cell_type": "code",
   "execution_count": null,
   "metadata": {},
   "outputs": [],
   "source": [
    "IPythonConsole.drawMol3D(global_min)"
   ]
  },
  {
   "cell_type": "markdown",
   "metadata": {},
   "source": [
    "The original and local minimum conformers look very similar to the eye. This is because local minimisation has a loose convergence criteria and is simply to clean up any high energy artifacts left by docking. The global minimum is noticably different, with all aromatic rings having relaxed into a similar plane."
   ]
  },
  {
   "cell_type": "markdown",
   "metadata": {},
   "source": [
    "You may again want to convert your results back into an sdf. You can do this with the function below:"
   ]
  },
  {
   "cell_type": "markdown",
   "metadata": {},
   "source": [
    "Hopefully you now have a good grasp on how to run the StrainRelief tool! I hope you find it as useful as we have.\n",
    "\n",
    "Ewan"
   ]
  }
 ],
 "metadata": {
  "kernelspec": {
   "display_name": "StrainRelief",
   "language": "python",
   "name": "python3"
  },
  "language_info": {
   "codemirror_mode": {
    "name": "ipython",
    "version": 3
   },
   "file_extension": ".py",
   "mimetype": "text/x-python",
   "name": "python",
   "nbconvert_exporter": "python",
   "pygments_lexer": "ipython3",
   "version": "3.12.3"
  }
 },
 "nbformat": 4,
 "nbformat_minor": 2
}
